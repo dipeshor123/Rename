{
 "cells": [
  {
   "cell_type": "code",
   "execution_count": 2,
   "id": "eee21a17-baf5-42a1-ab1c-06d1d3507ac9",
   "metadata": {},
   "outputs": [],
   "source": [
    "import pandas as pd\n",
    "import os\n",
    "\n",
    "df = pd.read_excel('Student list.xlsx')\n",
    "path1 = r'C:\\Users\\Dipes\\Downloads\\A1'\n",
    "\n",
    "for each in os.listdir(path1):\n",
    "    ofilename = os.path.join(path1, each)\n",
    "    \n",
    "    londonmet_id = int(each[:8])  # Extract the Londonmet ID from the filename\n",
    "# Check if Londonmet ID exists in the DataFrame\n",
    "    if londonmet_id in df['Londonmet ID'].values:\n",
    "        # Get the corresponding 'info' value from the DataFrame\n",
    "        new_filename = df.loc[df['Londonmet ID'] == londonmet_id, 'info'].values[0]\n",
    "        print(\n",
    "        new_filename = new_filename + os.path.splitext(each)[1]  # Append the original file extension\n",
    "        \n",
    "        nfilename = os.path.join(path1, new_filename)\n",
    "        os.rename(ofilename, nfilename)\n",
    "  "
   ]
  },
  {
   "cell_type": "code",
   "execution_count": null,
   "id": "94420419-832e-4ebe-9034-a94fa1625ee2",
   "metadata": {},
   "outputs": [],
   "source": [
    "conda install jupyterlab-cell-formatter-black"
   ]
  },
  {
   "cell_type": "code",
   "execution_count": null,
   "id": "8aee5cbf-714a-4d72-9b88-ba6062ac182a",
   "metadata": {},
   "outputs": [],
   "source": []
  }
 ],
 "metadata": {
  "kernelspec": {
   "display_name": "Python 3 (ipykernel)",
   "language": "python",
   "name": "python3"
  },
  "language_info": {
   "codemirror_mode": {
    "name": "ipython",
    "version": 3
   },
   "file_extension": ".py",
   "mimetype": "text/x-python",
   "name": "python",
   "nbconvert_exporter": "python",
   "pygments_lexer": "ipython3",
   "version": "3.10.9"
  }
 },
 "nbformat": 4,
 "nbformat_minor": 5
}
